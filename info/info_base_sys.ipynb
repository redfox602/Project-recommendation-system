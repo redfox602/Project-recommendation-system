{
 "cells": [
  {
   "cell_type": "markdown",
   "id": "abstract-sunset",
   "metadata": {},
   "source": [
    "# All important information about basic movie recomendation system"
   ]
  },
  {
   "cell_type": "markdown",
   "id": "hired-graphic",
   "metadata": {},
   "source": [
    "The base(file) with score and opinion has a huge disproportion.\n",
    "When I view max votes then the score becomes more than 4.6 points.\n",
    "Analogically the score is higher when number of votes is less.\n",
    "The best option to improve a score is create a Weighted Rating."
   ]
  },
  {
   "cell_type": "markdown",
   "id": "saving-executive",
   "metadata": {},
   "source": [
    "## Weighted Average for Individual movie's average rating"
   ]
  },
  {
   "attachments": {},
   "cell_type": "markdown",
   "id": "living-convergence",
   "metadata": {},
   "source": [
    "$ W = \\frac{Rv + Cm}{v + m} $ \n",
    "\n",
    "where: \n",
    "\n",
    "\n",
    "W - Weighted Rating \n",
    "\n",
    "\n",
    "R - the average rating of the movie\n",
    "\n",
    "\n",
    "v - number of votes for the movie\n",
    "\n",
    "\n",
    "m - minimum votes required to be listed in the Top. \n",
    "\n",
    "This is a first easy filter. I tried it for 75% or 90% which mean that I take only movies which hve more votes than at least 75%  or 90% of all movies on the list. Results is below \n",
    "\n",
    "\n",
    "C - the mean votes acreoss the whole file"
   ]
  },
  {
   "cell_type": "markdown",
   "id": "continental-netscape",
   "metadata": {},
   "source": [
    "Sorce which weighted rating: [Aritro Mukherjee](https://medium.com/@developeraritro/building-a-recommendation-system-using-weighted-hybrid-technique-75598b6be8ed)\n"
   ]
  },
  {
   "cell_type": "markdown",
   "id": "indonesian-sandwich",
   "metadata": {},
   "source": [
    "## Result of Top 20 which 75%\n",
    "\n",
    "![Top 20](../img/top20.png)"
   ]
  },
  {
   "cell_type": "markdown",
   "id": "dressed-deposit",
   "metadata": {},
   "source": [
    "## Result of Top 20 which 90%\n",
    "\n",
    "![Top 20](../img/top20_90.png)"
   ]
  },
  {
   "cell_type": "markdown",
   "id": "close-agenda",
   "metadata": {},
   "source": [
    "## Summary \n",
    "In my opinion better choice is m = 90%, because I prefer more votes than higher score.  "
   ]
  }
 ],
 "metadata": {
  "kernelspec": {
   "display_name": "Python 3",
   "language": "python",
   "name": "python3"
  },
  "language_info": {
   "codemirror_mode": {
    "name": "ipython",
    "version": 3
   },
   "file_extension": ".py",
   "mimetype": "text/x-python",
   "name": "python",
   "nbconvert_exporter": "python",
   "pygments_lexer": "ipython3",
   "version": "3.8.5"
  }
 },
 "nbformat": 4,
 "nbformat_minor": 5
}
